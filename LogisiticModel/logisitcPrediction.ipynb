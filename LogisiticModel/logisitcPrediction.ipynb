{
 "cells": [
  {
   "cell_type": "code",
   "execution_count": 8,
   "metadata": {},
   "outputs": [],
   "source": [
    "import numpy as np\n",
    "import matplotlib.pyplot as plt\n",
    "import pandas as pd"
   ]
  },
  {
   "cell_type": "code",
   "execution_count": 9,
   "metadata": {},
   "outputs": [
    {
     "name": "stdout",
     "output_type": "stream",
     "text": [
      "<bound method NDFrame.head of         id  male  age  died\n",
      "0    17734     1   86     1\n",
      "1    17742     0   83     0\n",
      "2    17748     0   66     0\n",
      "3    17753     1   72     1\n",
      "4    17758     0   69     0\n",
      "..     ...   ...  ...   ...\n",
      "279  19390     0   68     0\n",
      "280  19397     0   82     0\n",
      "281  19404     0   68     0\n",
      "282  19410     0   72     1\n",
      "283  19413     0   77     1\n",
      "\n",
      "[284 rows x 4 columns]>\n"
     ]
    }
   ],
   "source": [
    "data = pd.read_csv(\"Z:\\Semester5\\MachineLearning\\LogisiticModel\\Logistic Regression-survey.csv\")\n",
    "print(data.head)"
   ]
  },
  {
   "cell_type": "code",
   "execution_count": 11,
   "metadata": {},
   "outputs": [
    {
     "name": "stdout",
     "output_type": "stream",
     "text": [
      "Index(['id', 'male', 'age', 'died'], dtype='object')\n"
     ]
    },
    {
     "data": {
      "image/png": "[encoded data removed]",
      "text/plain": [
       "<Figure size 432x288 with 1 Axes>"
      ]
     },
     "metadata": {
      "needs_background": "light"
     },
     "output_type": "display_data"
    }
   ],
   "source": [
    "print(data.columns)\n",
    "data.plot(kind = 'scatter', x ='age', y ='died' )\n",
    "plt.show()"
   ]
  }
 ],
 "metadata": {
  "kernelspec": {
   "display_name": "Python 3.9.7 ('base')",
   "language": "python",
   "name": "python3"
  },
  "language_info": {
   "codemirror_mode": {
    "name": "ipython",
    "version": 3
   },
   "file_extension": ".py",
   "mimetype": "text/x-python",
   "name": "python",
   "nbconvert_exporter": "python",
   "pygments_lexer": "ipython3",
   "version": "3.9.7"
  },
  "orig_nbformat": 4,
  "vscode": {
   "interpreter": {
    "hash": "ad2bdc8ecc057115af97d19610ffacc2b4e99fae6737bb82f5d7fb13d2f2c186"
   }
  }
 },
 "nbformat": 4,
 "nbformat_minor": 2
}
